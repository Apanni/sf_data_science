{
 "cells": [
  {
   "cell_type": "code",
   "execution_count": 3,
   "metadata": {},
   "outputs": [
    {
     "name": "stdout",
     "output_type": "stream",
     "text": [
      "Вопрос: Для чего в классе используется атрибут slots?\n"
     ]
    },
    {
     "name": "stdin",
     "output_type": "stream",
     "text": [
      "Ответ:  Атрибут __slots__ в классе Python используется для оптимизации памяти и ускорения работы с объектами класса. Он позволяет явно указать, какие атрибуты объекта будут использоваться, а какие нет.\n"
     ]
    },
    {
     "name": "stdout",
     "output_type": "stream",
     "text": [
      "Ответ неверный\n"
     ]
    }
   ],
   "source": [
    "from transformers import BertTokenizer, BertForQuestionAnswering\n",
    "import torch\n",
    "from openpyxl import load_workbook\n",
    "import random\n",
    "from difflib import SequenceMatcher\n",
    "\n",
    "# Инициализация токенизатора и модели BERT\n",
    "model_path = 'bert-Roman'\n",
    "tokenizer = BertTokenizer.from_pretrained(model_path)\n",
    "model = BertForQuestionAnswering.from_pretrained(model_path)\n",
    "model = model.to(torch.device('cpu'))\n",
    "\n",
    "# Функция для обработки вопроса и получения ответа\n",
    "def get_answer(question, context):\n",
    "    inputs = tokenizer(question, context, return_tensors='pt')\n",
    "    input_ids = inputs['input_ids']\n",
    "    attention_mask = inputs['attention_mask']\n",
    "\n",
    "    outputs = model(input_ids, attention_mask=attention_mask)\n",
    "    start_scores = outputs.start_logits\n",
    "    end_scores = outputs.end_logits\n",
    "    \n",
    "    start_index = torch.argmax(start_scores)\n",
    "    end_index = torch.argmax(end_scores)\n",
    "\n",
    "    start_index = start_index.item()\n",
    "    end_index = end_index.item()\n",
    "\n",
    "    answer = tokenizer.convert_tokens_to_string(tokenizer.convert_ids_to_tokens(input_ids[0][start_index:end_index+1]))\n",
    "\n",
    "    return answer\n",
    "\n",
    "# Загрузка данных из файла Excel\n",
    "workbook = load_workbook('questions.xlsx')\n",
    "sheet = workbook.active\n",
    "\n",
    "# Выбор случайной строки с вопросом\n",
    "random_row = random.choice(list(sheet.iter_rows(min_row=2, max_row=sheet.max_row, values_only=True)))\n",
    "\n",
    "# Вывод вопроса\n",
    "print('Вопрос:', random_row[0])\n",
    "\n",
    "# Ввод ответа респондента\n",
    "response = input('Ответ: ')\n",
    "\n",
    "# Обработка ответа и получение предсказанного ответа\n",
    "predicted_answer = get_answer(random_row[0], response)\n",
    "\n",
    "# Сравнение предсказанного ответа с ожидаемым ответом с использованием SequenceMatcher\n",
    "expected_answer = random_row[1]\n",
    "similarity_ratio = SequenceMatcher(None, predicted_answer.lower(), expected_answer.lower()).ratio()\n",
    "\n",
    "if similarity_ratio > 0.8:\n",
    "    print('Ответ верный')\n",
    "else:\n",
    "    print('Ответ неверный')\n",
    "    "
   ]
  },
  {
   "cell_type": "code",
   "execution_count": null,
   "metadata": {},
   "outputs": [],
   "source": []
  }
 ],
 "metadata": {
  "kernelspec": {
   "display_name": "05. Lightning Flash (Фабрика искусственного интеллекта)",
   "language": "python",
   "name": "lightning"
  },
  "language_info": {
   "codemirror_mode": {
    "name": "ipython",
    "version": 3
   },
   "file_extension": ".py",
   "mimetype": "text/x-python",
   "name": "python",
   "nbconvert_exporter": "python",
   "pygments_lexer": "ipython3",
   "version": "3.10.12"
  }
 },
 "nbformat": 4,
 "nbformat_minor": 4
}
