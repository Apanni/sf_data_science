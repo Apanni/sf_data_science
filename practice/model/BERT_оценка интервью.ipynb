{
 "cells": [
  {
   "cell_type": "code",
   "execution_count": 12,
   "metadata": {},
   "outputs": [
    {
     "name": "stderr",
     "output_type": "stream",
     "text": [
      "Some weights of BertForQuestionAnswering were not initialized from the model checkpoint at bert-base-uncased and are newly initialized: ['qa_outputs.bias', 'qa_outputs.weight']\n",
      "You should probably TRAIN this model on a down-stream task to be able to use it for predictions and inference.\n"
     ]
    },
    {
     "name": "stdout",
     "output_type": "stream",
     "text": [
      "Вопрос: Что такое диапазон\n"
     ]
    },
    {
     "ename": "TypeError",
     "evalue": "argmax(): argument 'input' (position 1) must be Tensor, not str",
     "output_type": "error",
     "traceback": [
      "\u001b[1;31m---------------------------------------------------------------------------\u001b[0m",
      "\u001b[1;31mTypeError\u001b[0m                                 Traceback (most recent call last)",
      "Cell \u001b[1;32mIn[12], line 43\u001b[0m\n\u001b[0;32m     40\u001b[0m response \u001b[39m=\u001b[39m \u001b[39minput\u001b[39m(\u001b[39m'\u001b[39m\u001b[39mОтвет: \u001b[39m\u001b[39m'\u001b[39m)\n\u001b[0;32m     42\u001b[0m \u001b[39m# Обработка ответа и получение предсказанного ответа\u001b[39;00m\n\u001b[1;32m---> 43\u001b[0m predicted_answer \u001b[39m=\u001b[39m get_answer(random_question[\u001b[39m'\u001b[39;49m\u001b[39mquestion\u001b[39;49m\u001b[39m'\u001b[39;49m]\u001b[39m.\u001b[39;49mvalues[\u001b[39m0\u001b[39;49m], response)\n\u001b[0;32m     45\u001b[0m \u001b[39m# Сравнение предсказанного ответа с ожидаемым ответом\u001b[39;00m\n\u001b[0;32m     46\u001b[0m expected_answer \u001b[39m=\u001b[39m random_question[\u001b[39m'\u001b[39m\u001b[39manswer\u001b[39m\u001b[39m'\u001b[39m]\u001b[39m.\u001b[39mvalues[\u001b[39m0\u001b[39m]\n",
      "Cell \u001b[1;32mIn[12], line 24\u001b[0m, in \u001b[0;36mget_answer\u001b[1;34m(question, context)\u001b[0m\n\u001b[0;32m     21\u001b[0m start_scores, end_scores \u001b[39m=\u001b[39m model(input_ids, attention_mask\u001b[39m=\u001b[39mattention_mask)\n\u001b[0;32m     23\u001b[0m \u001b[39m# Индексы начала и конца ответа\u001b[39;00m\n\u001b[1;32m---> 24\u001b[0m start_index \u001b[39m=\u001b[39m torch\u001b[39m.\u001b[39;49margmax(start_scores[\u001b[39m0\u001b[39;49m])\n\u001b[0;32m     25\u001b[0m end_index \u001b[39m=\u001b[39m torch\u001b[39m.\u001b[39margmax(end_scores[\u001b[39m0\u001b[39m])\n\u001b[0;32m     28\u001b[0m \u001b[39m# Получение ответа из токенизированного текста\u001b[39;00m\n",
      "\u001b[1;31mTypeError\u001b[0m: argmax(): argument 'input' (position 1) must be Tensor, not str"
     ]
    }
   ],
   "source": [
    "import pandas as pd\n",
    "from transformers import BertTokenizer, BertForQuestionAnswering\n",
    "import torch\n",
    "\n",
    "# Загрузка данных из файла\n",
    "data = pd.read_excel('questions.xlsx')\n",
    "\n",
    "# Инициализация токенизатора и модели BERT\n",
    "tokenizer = BertTokenizer.from_pretrained('bert-base-uncased')\n",
    "model = BertForQuestionAnswering.from_pretrained('bert-base-uncased', force_download=True)\n",
    "model = model.to(torch.device('cpu'))\n",
    "\n",
    "# Функция для обработки вопроса и получения ответа\n",
    "def get_answer(question, context):\n",
    "    # Токенизация вопроса и контекста\n",
    "    inputs = tokenizer.encode_plus(question, context, add_special_tokens=True, return_tensors='pt')\n",
    "    input_ids = inputs['input_ids']\n",
    "    attention_mask = inputs['attention_mask']\n",
    "\n",
    "    # Получение ответа с помощью модели BERT\n",
    "    start_scores, end_scores = model(input_ids, attention_mask=attention_mask)\n",
    "\n",
    "    # Индексы начала и конца ответа\n",
    "    start_index = torch.argmax(start_scores[0])\n",
    "    end_index = torch.argmax(end_scores[0])\n",
    "\n",
    "\n",
    "    # Получение ответа из токенизированного текста\n",
    "    answer = tokenizer.convert_tokens_to_string(tokenizer.convert_ids_to_tokens(input_ids[0][start_index:end_index+1]))\n",
    "\n",
    "    return answer\n",
    "\n",
    "# Выбор случайного вопроса\n",
    "random_question = data.sample(1)\n",
    "\n",
    "# Вывод вопроса\n",
    "print('Вопрос:', random_question['question'].values[0])\n",
    "\n",
    "# Ввод ответа респондента\n",
    "response = input('Ответ: ')\n",
    "\n",
    "# Обработка ответа и получение предсказанного ответа\n",
    "predicted_answer = get_answer(random_question['question'].values[0], response)\n",
    "\n",
    "# Сравнение предсказанного ответа с ожидаемым ответом\n",
    "expected_answer = random_question['answer'].values[0]\n",
    "if predicted_answer.lower() == expected_answer.lower():\n",
    "    print('Ответ верный')\n",
    "else:\n",
    "    print('Ответ неверный')\n"
   ]
  }
 ],
 "metadata": {
  "kernelspec": {
   "display_name": "Python 3",
   "language": "python",
   "name": "python3"
  },
  "language_info": {
   "codemirror_mode": {
    "name": "ipython",
    "version": 3
   },
   "file_extension": ".py",
   "mimetype": "text/x-python",
   "name": "python",
   "nbconvert_exporter": "python",
   "pygments_lexer": "ipython3",
   "version": "3.10.11"
  },
  "orig_nbformat": 4
 },
 "nbformat": 4,
 "nbformat_minor": 2
}
