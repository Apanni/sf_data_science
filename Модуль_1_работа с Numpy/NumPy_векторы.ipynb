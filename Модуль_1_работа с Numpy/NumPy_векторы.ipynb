{
 "cells": [
  {
   "cell_type": "code",
   "execution_count": 5,
   "metadata": {},
   "outputs": [
    {
     "name": "stdout",
     "output_type": "stream",
     "text": [
      "[14.  10.  10.6 15.5]\n",
      "[2, 4, 7, 2.5, 12, 6, 3.6, 13]\n",
      "[24.  24.  25.2 32.5]\n"
     ]
    }
   ],
   "source": [
    "# сложение векторов\n",
    "import numpy as np\n",
    "vec1 = np.array([2,4,7,2.5]) # если сложить list,\n",
    "                            #то получится просто 1 объедененный список\n",
    "vec2 = np.array([12,6,3.6,13])\n",
    "print(vec1 + vec2)\n",
    "# без numpy можно сложить так:\n",
    "list1 = [2, 4, 7, 2.5]\n",
    "list2 = [12, 6, 3.6, 13]\n",
    "print(list1 + list2) # не так\n",
    "[x + y for x, y in zip(list1, list2)] # так \n",
    "print(vec1*vec2)"
   ]
  },
  {
   "attachments": {},
   "cell_type": "markdown",
   "metadata": {},
   "source": [
    "#### Для совершения арифметических операций с векторами они должны быть одинаковой длины."
   ]
  },
  {
   "cell_type": "code",
   "execution_count": 6,
   "metadata": {},
   "outputs": [
    {
     "ename": "ValueError",
     "evalue": "operands could not be broadcast together with shapes (4,) (3,) ",
     "output_type": "error",
     "traceback": [
      "\u001b[1;31m---------------------------------------------------------------------------\u001b[0m",
      "\u001b[1;31mValueError\u001b[0m                                Traceback (most recent call last)",
      "Cell \u001b[1;32mIn[6], line 3\u001b[0m\n\u001b[0;32m      1\u001b[0m vec1 \u001b[39m=\u001b[39m np\u001b[39m.\u001b[39marray([\u001b[39m2\u001b[39m, \u001b[39m4\u001b[39m, \u001b[39m7\u001b[39m, \u001b[39m2.5\u001b[39m])\n\u001b[0;32m      2\u001b[0m vec2 \u001b[39m=\u001b[39m np\u001b[39m.\u001b[39marray([\u001b[39m12\u001b[39m, \u001b[39m6\u001b[39m, \u001b[39m3.6\u001b[39m])\n\u001b[1;32m----> 3\u001b[0m \u001b[39mprint\u001b[39m(vec1\u001b[39m*\u001b[39;49mvec2)\n",
      "\u001b[1;31mValueError\u001b[0m: operands could not be broadcast together with shapes (4,) (3,) "
     ]
    }
   ],
   "source": [
    "vec1 = np.array([2, 4, 7, 2.5])\n",
    "vec2 = np.array([12, 6, 3.6])\n",
    "print(vec1*vec2) # ошибка, т.к. длина разная\n"
   ]
  },
  {
   "cell_type": "code",
   "execution_count": 8,
   "metadata": {},
   "outputs": [
    {
     "name": "stdout",
     "output_type": "stream",
     "text": [
      "[0 1 2 3 4]\n",
      "[ 0 10 20 30 40]\n",
      "[ 0  1  4  9 16]\n"
     ]
    }
   ],
   "source": [
    "# вектор можно умножить на 1 число\n",
    "vec = np.arange(5)\n",
    "print(vec)\n",
    "print(vec* 10)\n",
    "print(vec ** 2)"
   ]
  },
  {
   "cell_type": "code",
   "execution_count": 11,
   "metadata": {},
   "outputs": [
    {
     "name": "stdout",
     "output_type": "stream",
     "text": [
      "[ True  True False  True]\n",
      "[ True  True False  True]\n"
     ]
    }
   ],
   "source": [
    "vec1 = np.array([2,4,7,2.5])\n",
    "vec2 = np.array([12,6,3.6,13])\n",
    "print(vec1 < vec2)\n",
    "print(vec1 < 5)"
   ]
  },
  {
   "attachments": {},
   "cell_type": "markdown",
   "metadata": {},
   "source": [
    "#### Продвинутые операции с вектором"
   ]
  },
  {
   "cell_type": "code",
   "execution_count": 19,
   "metadata": {},
   "outputs": [
    {
     "name": "stdout",
     "output_type": "stream",
     "text": [
      "5.0\n",
      "5.0\n",
      "12.206555615733702\n",
      "12.206555615733702\n",
      "250.0\n",
      "250.0\n"
     ]
    }
   ],
   "source": [
    "vec = np.array([3,4])\n",
    "# расчет длины математически\n",
    "length = np.sqrt(np.sum(vec ** 2))\n",
    "print(length)\n",
    "# расчет длины вектора с помощью подмодуля Linalg!!!!\n",
    "length = np.linalg.norm(vec)\n",
    "print(length)\n",
    "\n",
    "# расстоние между векторами\n",
    "vec1 = np.array([0,3,5])\n",
    "vec2 = np.array([12,4,7])\n",
    "distance = np.sqrt(np.sum((vec1 - vec2)**2))\n",
    "print(distance)\n",
    "# расстояние между векторами с помощью Linalg!!\n",
    "distance = np.linalg.norm(vec1 - vec2)\n",
    "print(distance)\n",
    "\n",
    "# скалярное произведение:\n",
    "vec1 = np.arange(1,6)\n",
    "vec2 = np.linspace(10,20,5)\n",
    "scolar_product = np.sum(vec1*vec2)\n",
    "print(scolar_product)\n",
    "# скалярное произведение в помощью функций numpy\n",
    "scolar_product = np.dot(vec1, vec2)\n",
    "print(scolar_product)"
   ]
  },
  {
   "cell_type": "code",
   "execution_count": 22,
   "metadata": {},
   "outputs": [
    {
     "name": "stdout",
     "output_type": "stream",
     "text": [
      "1\n",
      "28\n",
      "28\n",
      "1\n"
     ]
    }
   ],
   "source": [
    "# поиск max и min в функциях\n",
    "vec = np.array([2,7,18,28,18,1,8,4])\n",
    "print(vec.min()) # 1й способ записи\n",
    "print(vec.max())\n",
    "print(np.max(vec)) # 2й способ записи\n",
    "print(np.min(vec))\n",
    "\n",
    "# среднее значение\n",
    "print(vec.mean())"
   ]
  },
  {
   "attachments": {},
   "cell_type": "markdown",
   "metadata": {},
   "source": [
    "Напишите функцию min_max_dist(*vectors), которая принимает на вход неограниченное число векторов через запятую. Гарантируется, что все векторы, которые передаются, одинаковой длины.\n",
    "\n",
    "Функция возвращает минимальное и максимальное расстояние между векторами в виде кортежа."
   ]
  },
  {
   "cell_type": "code",
   "execution_count": 1,
   "metadata": {},
   "outputs": [],
   "source": [
    "import numpy as np\n",
    "\n",
    "def min_max_dist(*vectors):\n",
    "    dists = list()\n",
    "    for i in range(len(vectors)):\n",
    "        for j in range(i + 1, len(vectors)):\n",
    "            dists.append(np.linalg.norm(vectors[i] - vectors[j]))\n",
    "    return (min(dists), max(dists))"
   ]
  },
  {
   "cell_type": "code",
   "execution_count": 2,
   "metadata": {},
   "outputs": [
    {
     "data": {
      "text/plain": [
       "(5.196152422706632, 10.392304845413264)"
      ]
     },
     "execution_count": 2,
     "metadata": {},
     "output_type": "execute_result"
    }
   ],
   "source": [
    "vec1 = np.array([1,2,3])\n",
    "vec2 = np.array([4,5,6])\n",
    "vec3 = np.array([7, 8, 9])\n",
    "\n",
    "min_max_dist(vec1, vec2, vec3)"
   ]
  },
  {
   "attachments": {},
   "cell_type": "markdown",
   "metadata": {},
   "source": [
    "Напишите функцию any_normal, которая принимает на вход неограниченное число векторов через запятую. Гарантируется, что все векторы, которые передаются, одинаковой длины.\n",
    "\n",
    "Функция возвращает True, если есть хотя бы одна пара перпендикулярных векторов. Иначе возвращает False."
   ]
  },
  {
   "cell_type": "code",
   "execution_count": null,
   "metadata": {},
   "outputs": [],
   "source": [
    "import numpy as np\n",
    "\n",
    "def any_normal(*vectors):\n",
    "    for i in range(len(vectors)):\n",
    "        for j in range(i + 1, len(vectors)):\n",
    "            if np.dot(vectors[i], vectors[j]) == 0:\n",
    "                return True\n",
    "    return False"
   ]
  }
 ],
 "metadata": {
  "kernelspec": {
   "display_name": "Python 3",
   "language": "python",
   "name": "python3"
  },
  "language_info": {
   "codemirror_mode": {
    "name": "ipython",
    "version": 3
   },
   "file_extension": ".py",
   "mimetype": "text/x-python",
   "name": "python",
   "nbconvert_exporter": "python",
   "pygments_lexer": "ipython3",
   "version": "3.10.11"
  },
  "orig_nbformat": 4
 },
 "nbformat": 4,
 "nbformat_minor": 2
}
