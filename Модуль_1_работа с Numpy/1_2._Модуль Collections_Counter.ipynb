{
 "cells": [
  {
   "attachments": {},
   "cell_type": "markdown",
   "metadata": {},
   "source": [
    "# Counter"
   ]
  },
  {
   "cell_type": "code",
   "execution_count": 2,
   "metadata": {},
   "outputs": [
    {
     "name": "stdout",
     "output_type": "stream",
     "text": [
      "Counter({'red': 1})\n"
     ]
    }
   ],
   "source": [
    "# Импортируем объект counter из модуля collection\n",
    "from collections import Counter\n",
    "# создаем пустой объект counter\n",
    "c = Counter()\n",
    "\n",
    "#Рассмотрим базовый синтаксис этого инструмента. Например, будем считать\n",
    "#цвета проезжающих машин: если встретили красную машину, посчитаем её. \n",
    "# Для этого прибавим к ключу 'red' единицу. Синтаксис очень похож на работу \n",
    "# со словарём:\n",
    "c['red'] += 1\n",
    "print(c)\n"
   ]
  },
  {
   "cell_type": "code",
   "execution_count": 3,
   "metadata": {},
   "outputs": [
    {
     "name": "stdout",
     "output_type": "stream",
     "text": [
      "Counter({'red': 4, 'black': 3, 'blue': 2, 'white': 1})\n"
     ]
    }
   ],
   "source": [
    "cars = ['red', 'blue', 'black', 'black', \n",
    "        'black', 'red', 'blue', 'red', 'white']\n",
    "с = Counter()\n",
    "for car in cars:\n",
    "    c[car] += 1\n",
    "    \n",
    "print(c)\n"
   ]
  },
  {
   "cell_type": "code",
   "execution_count": 8,
   "metadata": {},
   "outputs": [
    {
     "name": "stdout",
     "output_type": "stream",
     "text": [
      "Counter({'red': 3, 'black': 3, 'blue': 2, 'white': 1})\n",
      "3\n",
      "9\n",
      "dict_values([3, 2, 3, 1])\n"
     ]
    }
   ],
   "source": [
    "# Однако гораздо проще при создании Counter сразу передать \n",
    "# в круглых скобках итерируемый объект, в котором необходимо \n",
    "# посчитать значения:\n",
    "c = Counter(cars)\n",
    "print(c)\n",
    "\n",
    "# Узнать, сколько раз встретился конкретный элемент, можно, \n",
    "# обратившись к счётчику по ключу как к обычному словарю:\n",
    "print(c['black'])\n",
    "\n",
    "# Узнать сумму всех значений в объекте Counter можно, \n",
    "# воспользовавшись следующей конструкцией:\n",
    "print(sum(c.values()))\n",
    "print(c.values())"
   ]
  },
  {
   "cell_type": "code",
   "execution_count": 10,
   "metadata": {},
   "outputs": [
    {
     "name": "stdout",
     "output_type": "stream",
     "text": [
      "Counter({'black': 4, 'yellow': 3, 'white': 2})\n",
      "Counter({'white': 3, 'red': 2, 'black': 2, 'yellow': 2})\n",
      "Counter({'black': 2, 'yellow': 1, 'white': -1, 'red': -2})\n"
     ]
    }
   ],
   "source": [
    "cars_moscow = ['black', 'black', 'white', 'black', 'black', \n",
    "               'white', 'yellow', 'yellow', 'yellow']\n",
    "cars_spb = ['red', 'black', 'black', 'white', \n",
    "            'white', 'yellow', 'yellow', 'red', 'white']\n",
    "\n",
    "counter_moscow = Counter(cars_moscow)\n",
    "counter_spb = Counter(cars_spb)\n",
    "\n",
    "print(counter_moscow)\n",
    "print(counter_spb)\n",
    "# расчет разницы через функцию subtract:\n",
    "counter_moscow.subtract(counter_spb)\n",
    "print(counter_moscow) # в спб оказалось больше белых и красных машин\n",
    "\n",
    "# если будем считать разность через \"-\" то отрицательные значение не войдут \n",
    "# в вывод через print\n"
   ]
  },
  {
   "cell_type": "code",
   "execution_count": 15,
   "metadata": {},
   "outputs": [
    {
     "name": "stdout",
     "output_type": "stream",
     "text": [
      "black black yellow\n",
      "['black', 'white', 'yellow', 'red']\n",
      "{'black': 2, 'white': -1, 'yellow': 1, 'red': -2}\n",
      "[('black', 2), ('yellow', 1), ('white', -1), ('red', -2)]\n",
      "[('black', 2), ('yellow', 1), ('white', -1)]\n"
     ]
    }
   ],
   "source": [
    "# получить список всех элементов можно так:\n",
    "print(*counter_moscow.elements())\n",
    "\n",
    "# получить список уникальных значений:\n",
    "print(list(counter_moscow))\n",
    "# с помощью dict можно превратить counter в словарь:\n",
    "print(dict(counter_moscow))\n",
    "\n",
    "# Функция most_common() позволяет получить список из \n",
    "# кортежей элементов в порядке убывания их встречаемости:\n",
    "print(counter_moscow.most_common())\n",
    "print(counter_moscow.most_common(3)) # 3 наиболее часто встерчающиеся"
   ]
  },
  {
   "cell_type": "code",
   "execution_count": 16,
   "metadata": {},
   "outputs": [
    {
     "name": "stdout",
     "output_type": "stream",
     "text": [
      "Counter()\n"
     ]
    }
   ],
   "source": [
    "# Обнуление счетчика\n",
    "counter_moscow.clear()\n",
    "print(counter_moscow)"
   ]
  }
 ],
 "metadata": {
  "kernelspec": {
   "display_name": "Python 3",
   "language": "python",
   "name": "python3"
  },
  "language_info": {
   "codemirror_mode": {
    "name": "ipython",
    "version": 3
   },
   "file_extension": ".py",
   "mimetype": "text/x-python",
   "name": "python",
   "nbconvert_exporter": "python",
   "pygments_lexer": "ipython3",
   "version": "3.10.11"
  },
  "orig_nbformat": 4
 },
 "nbformat": 4,
 "nbformat_minor": 2
}
