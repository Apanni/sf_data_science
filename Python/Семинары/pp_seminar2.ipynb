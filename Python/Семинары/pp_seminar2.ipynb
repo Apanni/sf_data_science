{
 "cells": [
  {
   "attachments": {},
   "cell_type": "markdown",
   "id": "f297fa3e",
   "metadata": {},
   "source": [
    "# Программирование на языке Python\n",
    "## Семинар 2. Погружение в типы данных\n",
    "#### Задача 4 (из семинара 1)\n",
    "\n",
    "Напишите программу, которая принимает на вход коэффициенты квадратного уравнения (действительные числа `a`, `b` и `с`) и проверяет, сколько решений оно имеет (2, 1 или 0), а также выводит их (его) если возможно. Комплексными корнями и бесконечным количеством решений пренебречь. Результат должен быть напечатан в виде:\n",
    "\n",
    "```\n",
    "Квадратное уравнение имеет N корней: x1, x2.\n",
    "```"
   ]
  },
  {
   "cell_type": "code",
   "execution_count": null,
   "id": "b7ab936e",
   "metadata": {},
   "outputs": [],
   "source": [
    "# наш код здесь"
   ]
  },
  {
   "attachments": {},
   "cell_type": "markdown",
   "id": "a80e9757",
   "metadata": {},
   "source": [
    "#### Задача 1\n",
    "Вам на вход подается последовательность целых чисел произвольной длины через потенциально возможные разделители `'.'`, `','`, `';'` либо `' '` (пробел). Ваша задача - написать программу, которая будет определять, что это за разделитель, и печатать для пользователя:\n",
    "\n",
    "1. В первой строке: `Разделитель в последовательности: <delimiter_name>.`;\n",
    "2. Во второй строке: `Последовательность: <последовательность через табуляцию>.`\n",
    "\n",
    "Решите данную задачу любыми двумя способами.\n",
    "\n",
    "Предварительные условия:\n",
    "\n",
    "- в одной последовательности только один разделитель."
   ]
  },
  {
   "cell_type": "code",
   "execution_count": 3,
   "id": "ca3040ab",
   "metadata": {},
   "outputs": [
    {
     "name": "stdout",
     "output_type": "stream",
     "text": [
      "Разделитель в последовательности: точка\n",
      "5\t6\t\tапа\tывы\t\t\tва\t\n"
     ]
    }
   ],
   "source": [
    "sequence = input('Введите последовательность через точку, точку с запятой или пробле')\n",
    "\n",
    "if '.' in sequence:\n",
    "    print('Разделитель в последовательности: точка')\n",
    "    print(sequence.replace('.', '\\t')) # табуляция\n",
    "elif ',' in sequence:\n",
    "    print('Разделитель в последовательности: запятая')\n",
    "    print(sequence.replace(',', '\\t')) # табуляция\n",
    "elif ';' in sequence:\n",
    "    print('Разделитель в последовательности: точка с запятой')\n",
    "    print(sequence.replace(';', '\\t')) # табуляция\n",
    "elif ' ' in sequence:\n",
    "    print('Разделитель в последовательности: пробел')\n",
    "    print(sequence.replace(' ', '\\t')) # табуляция\n",
    "else:\n",
    "    raise ValueError(\"использован не корректный разделитель\") #добавляем исключение на случай ошибки"
   ]
  },
  {
   "cell_type": "code",
   "execution_count": null,
   "id": "28a93ddd",
   "metadata": {},
   "outputs": [],
   "source": [
    "# Второй вариант решения задачи 1\n",
    "sequence = input('Введите последовательность через точку, точку с запятой или пробле')\n",
    "\n",
    "if '.' in sequence:\n",
    "    print('Разделитель в последовательности: точка')\n",
    "    print('/t'.join(sequence.split('.'))) # split преобразует строку в список!!!!\n",
    "elif ',' in sequence:\n",
    "    print('Разделитель в последовательности: запятая')\n",
    "    print('/t'.join(sequence.split(',')))\n",
    "elif ';' in sequence:\n",
    "    print('Разделитель в последовательности: точка с запятой')\n",
    "    print('/t'.join(sequence.split(';')))\n",
    "elif ' ' in sequence:\n",
    "    print('Разделитель в последовательности: пробел')\n",
    "    print('/t'.join(sequence.split(' ')))\n",
    "else:\n",
    "    raise ValueError(\"использован не корректный разделитель\") #добавляем исключение на случай ошибки"
   ]
  },
  {
   "attachments": {},
   "cell_type": "markdown",
   "id": "8c46400e",
   "metadata": {},
   "source": [
    "#### Задача 2\n",
    "Вам на вход подаются две последовательности из слов, разделенных пробелами и знаками препинания (`'.'`, `','`, `';'`, `':'`). Первая последовательность - предложение, вторая - словосочетание. Ваша задача - определить, входят ли все слова (в исходной форме, не в начальной) в словосочетании в предложение. Case букв, а также знаки препинания должны игнорироваться. Если это верно, тогда должно печататься `True`, иначе - `False`."
   ]
  },
  {
   "cell_type": "code",
   "execution_count": 7,
   "id": "426f80c3",
   "metadata": {},
   "outputs": [
    {
     "name": "stdout",
     "output_type": "stream",
     "text": [
      "False\n",
      "False\n",
      "False\n"
     ]
    }
   ],
   "source": [
    "sentence = input()\n",
    "collocation = input()\n",
    "\n",
    "sentence = sentence.replace('.', '').replace(',', '').replace(';', '').replace(':', '').lower() # метод прелбразования в подстрочный текст\n",
    "collocation = collocation.replace('.', '').replace(',', '').replace(';', '').replace(':', '').lower()\n",
    "\n",
    "sentence_set = set(sentence.split()) # split метод, который позволяет делить по словам, а не по буквам строку\n",
    "                                    # set приобразование в тип множеств\n",
    "\n",
    "collocation_set = set(collocation.split()) \n",
    "\n",
    "print(collocation_set <= sentence_set) # проверка явялется ли collocation подмножеством sentence\n",
    "print(collocation_set.issubset(sentence_set)) # вариант проверки через метод\n",
    "print(sentence_set.issuperset(collocation_set)) # вариант проверки через метод"
   ]
  },
  {
   "attachments": {},
   "cell_type": "markdown",
   "id": "b373101b",
   "metadata": {},
   "source": [
    "#### Задача 3\n",
    "\n",
    "Вы пишете программу, которая принимает от пользователя номер телефона СТРОГО в формате `+7(999)0000000`. Программа должна проверять соответствие формату, а также то, что номер российский. Если формат не соблюден, должно печататься `'Формат не соблюден, введите номер заново.'`, иначе - `'Введенный Вами номер сохранен. Спасибо!'`."
   ]
  },
  {
   "cell_type": "code",
   "execution_count": null,
   "id": "0cc4108b",
   "metadata": {},
   "outputs": [],
   "source": [
    "# наш код здесь"
   ]
  },
  {
   "attachments": {},
   "cell_type": "markdown",
   "id": "a274de10",
   "metadata": {},
   "source": [
    "#### Задача 4\n",
    "Вам на вход подаются действительные числа через запятую. Вам надо:\n",
    "\n",
    "2) Создать словарь, в котором ключами будут сами натуральные числа, а значениями - количество уникальных цифр в них;\n",
    "3) Вывести словарь для пользователя."
   ]
  },
  {
   "cell_type": "code",
   "execution_count": 12,
   "id": "3818c00c",
   "metadata": {},
   "outputs": [
    {
     "name": "stdout",
     "output_type": "stream",
     "text": [
      "['1', '6.6', '7', '-9.7']\n"
     ]
    }
   ],
   "source": [
    "floats = input().split(',')\n",
    "print(floats)"
   ]
  },
  {
   "cell_type": "code",
   "execution_count": 16,
   "id": "63ef82b4",
   "metadata": {},
   "outputs": [
    {
     "name": "stdout",
     "output_type": "stream",
     "text": [
      "{2.0: 1}\n"
     ]
    }
   ],
   "source": [
    "floats = input().split(',') # сразу установили разеделить\n",
    "floats_dict = {}\n",
    "\n",
    "for f in floats:\n",
    "    some_str = str(f).replace('.', '').replace('-', '')\n",
    "    numbers_set = set(some_str)\n",
    "    # print(some_str)\n",
    "    # print(numbers_set)\n",
    "    floats_dict.update({float(f): len(numbers_set)})\n",
    "print(floats_dict)\n",
    "    \n"
   ]
  },
  {
   "attachments": {},
   "cell_type": "markdown",
   "id": "b72a9815",
   "metadata": {},
   "source": [
    "#### Задача 5\n",
    "необходимо принять на вход слово и закодировать его, разделитем берем точку, \n",
    "затем необходимо его расскодировать"
   ]
  },
  {
   "cell_type": "code",
   "execution_count": 17,
   "id": "bf6d83bf",
   "metadata": {},
   "outputs": [
    {
     "name": "stdout",
     "output_type": "stream",
     "text": [
      "1087.1088.1080.1074.1077.1090\n"
     ]
    }
   ],
   "source": [
    "word = input(\"введите слово: \")\n",
    "codes = []\n",
    "\n",
    "for elem in word:\n",
    "    codes.append(str(ord(elem))) # добавлять новый элемент в конец списка append, а \n",
    "                                # ord() - закодировать буквы\n",
    "print('.'.join(codes)) # соделинить элементы списка через точку"
   ]
  },
  {
   "cell_type": "code",
   "execution_count": 18,
   "id": "d52c4193",
   "metadata": {},
   "outputs": [
    {
     "name": "stdout",
     "output_type": "stream",
     "text": [
      "привет\n"
     ]
    }
   ],
   "source": [
    "code = input('Введите зашифровоенное слово: ').split('.') # код в котором разделить точка\n",
    "letters = []\n",
    "\n",
    "for number in code:\n",
    "    letters.append(chr(int(number))) # chr - функция для раскодировки, а\n",
    "                                     # int переводит строку в число\n",
    "print(''.join(letters))"
   ]
  }
 ],
 "metadata": {
  "kernelspec": {
   "display_name": "Python 3 (ipykernel)",
   "language": "python",
   "name": "python3"
  },
  "language_info": {
   "codemirror_mode": {
    "name": "ipython",
    "version": 3
   },
   "file_extension": ".py",
   "mimetype": "text/x-python",
   "name": "python",
   "nbconvert_exporter": "python",
   "pygments_lexer": "ipython3",
   "version": "3.10.11"
  }
 },
 "nbformat": 4,
 "nbformat_minor": 5
}
