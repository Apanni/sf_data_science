{
 "cells": [
  {
   "attachments": {},
   "cell_type": "markdown",
   "id": "4a711367",
   "metadata": {},
   "source": [
    "# Программирование на языке Python\n",
    "## Семинар 3. Логические операторы"
   ]
  },
  {
   "attachments": {},
   "cell_type": "markdown",
   "id": "f297fa3e",
   "metadata": {},
   "source": [
    "#### Задача 1\n",
    "Напишите программу, которая принимает на вход слово на русском языке и проверяет, является ли оно палиндромом (если палиндром - соответствующее сообщение пользователю, то же самое в ином случае). Case буквы не должен влиять на результат. Регистр не должен влять на результат"
   ]
  },
  {
   "cell_type": "code",
   "execution_count": 8,
   "id": "1dda949e",
   "metadata": {},
   "outputs": [
    {
     "name": "stdout",
     "output_type": "stream",
     "text": [
      "слово word является палидромом\n",
      "слово Анна является палидромом\n",
      "слово Анна является палидромом\n"
     ]
    }
   ],
   "source": [
    "word = input('введите слово на английском языке: ') \n",
    "word_clean = word.lower() # все на нижний ригистр\n",
    "if word_clean == word_clean[::-1]:\n",
    "    print('слово word является палидромом')\n",
    "    print('слово ' +  word + ' является палидромом')\n",
    "    print('слово', word, 'является палидромом')\n",
    "else: \n",
    "    print(f'Слово {word} не явялется палидромом')\n",
    "    print('Слово {} не явялется палидромом'.format(word))\n",
    "    print('Слово %s не явялется палидромом' % word)\n"
   ]
  },
  {
   "cell_type": "code",
   "execution_count": null,
   "id": "4d31d6d7",
   "metadata": {},
   "outputs": [],
   "source": [
    "word[::-1] # перевернуть значения"
   ]
  },
  {
   "cell_type": "code",
   "execution_count": 12,
   "id": "a5254e2f",
   "metadata": {},
   "outputs": [
    {
     "data": {
      "text/plain": [
       "['1', '2', '3', '4']"
      ]
     },
     "execution_count": 12,
     "metadata": {},
     "output_type": "execute_result"
    }
   ],
   "source": [
    "\"1 2 3 4\".split()"
   ]
  },
  {
   "cell_type": "code",
   "execution_count": 16,
   "id": "68e03bb9",
   "metadata": {},
   "outputs": [
    {
     "data": {
      "text/plain": [
       "'аннА'"
      ]
     },
     "execution_count": 16,
     "metadata": {},
     "output_type": "execute_result"
    }
   ],
   "source": [
    "''.join(list(reversed(word))) # перевернуть значения"
   ]
  },
  {
   "attachments": {},
   "cell_type": "markdown",
   "id": "8c46400e",
   "metadata": {},
   "source": [
    "#### Задача 2\n",
    "Метод `.get()` возвращает значение по ключу. Напишите программу, которая выдает ключ по значению. Словарь определен заранее. Если ключей с таким значением несколько, то верните список со всеми."
   ]
  },
  {
   "cell_type": "code",
   "execution_count": 19,
   "id": "426f80c3",
   "metadata": {},
   "outputs": [],
   "source": [
    "cor_dict = {0.3: 'weak', -0.3: 'weak', 0.96: 'strong'}"
   ]
  },
  {
   "cell_type": "code",
   "execution_count": 30,
   "id": "3b965ffe",
   "metadata": {},
   "outputs": [
    {
     "data": {
      "text/plain": [
       "dict_items([(0.3, 'weak'), (-0.3, 'weak'), (0.96, 'strong')])"
      ]
     },
     "execution_count": 30,
     "metadata": {},
     "output_type": "execute_result"
    }
   ],
   "source": [
    "value_to_find = 'weak'\n",
    "cor_dict.items() # вывод в формате ключ, значение"
   ]
  },
  {
   "cell_type": "code",
   "execution_count": 32,
   "id": "c0ebc1aa",
   "metadata": {},
   "outputs": [
    {
     "name": "stdout",
     "output_type": "stream",
     "text": [
      "[0.3, -0.3]\n"
     ]
    }
   ],
   "source": [
    "keys = []\n",
    "\n",
    "for key, value in cor_dict.items():\n",
    "\n",
    "   if value == value_to_find:\n",
    "        keys.append(key) # метод добавления объекта в конец списка\n",
    "print(keys)\n"
   ]
  },
  {
   "cell_type": "code",
   "execution_count": 34,
   "id": "6a6c17d9",
   "metadata": {},
   "outputs": [
    {
     "name": "stdout",
     "output_type": "stream",
     "text": [
      "0 1 2 3 4 5 6 7 "
     ]
    }
   ],
   "source": [
    "for num in range(8):\n",
    "    print(num, end=' ')"
   ]
  },
  {
   "attachments": {},
   "cell_type": "markdown",
   "id": "b373101b",
   "metadata": {},
   "source": [
    "#### Задача 3\n",
    "\n",
    "Мы имеем словарь, в котором ключами являются идентификаторы испытуемых, а значениями - показатели датчиков за 10 дней. Нужно получить такой же словарь, но с числами (или с нулем вместо `'error'`)."
   ]
  },
  {
   "cell_type": "code",
   "execution_count": 58,
   "id": "0cc4108b",
   "metadata": {},
   "outputs": [],
   "source": [
    "data = {\n",
    "    'patient1': ['-2.47', '10.414', '-20.147', '71.253', '6.184', '18.686', '14.767', '8.407', '49.355', '17.055'],\n",
    "    'patient2': ['-11.368', '71.067', '-31.519', 'error', '12.197', '-23.183', '28.052', '21.437', '19.261', '67.036'],\n",
    "    'patient3': ['-44.866', '-42.591', '32.409', '62.916', '23.356', 'error', '-52.277', '-20.885', '21.307', '10.846'],\n",
    "    'patient4': ['-50.765', 'error', '-26.627', 'error', '6.523', '11.412', 'error', '40.828', '-21.127', '-11.693'],\n",
    "    'patient5': ['5.076', '91.697', '-47.169', '-21.875', '-52.227', '20.551', '30.118', '-0.114', '25.138', '-21.818'],\n",
    "    'patient6': ['-15.347', '-27.504', '-33.92', '-45.092', '-23.837', '-15.655', '-43.795', '30.521', '68.682', '18.174'],\n",
    "    'patient7': ['4.825', '-22.918', 'error', '16.429', 'error', '15.604', '-27.403', 'error', '7.14', '26.587']\n",
    "}\n",
    "\n",
    "# наш код здесь"
   ]
  },
  {
   "cell_type": "code",
   "execution_count": 50,
   "id": "d55e7174",
   "metadata": {},
   "outputs": [],
   "source": [
    "patient1 = ['-11.368', '71.067', '-31.519', 'error', '12.197', '-23.183', '28.052', '21.437', '19.261', '67.036']\n",
    "patient1_float = []\n",
    "for val in patient1:\n",
    "    val_clean = val.lstrip('-').replace('.','')\n",
    "    if not val_clean.isdigit(): # проверка, явялется ли значение числом после очистки - и .\n",
    "        patient1_float.append(0.) # 0. - чтобы получился тип float \n",
    "    else:\n",
    "        patient1_float.append(float(val))"
   ]
  },
  {
   "cell_type": "code",
   "execution_count": 61,
   "id": "f28f2d25",
   "metadata": {},
   "outputs": [
    {
     "name": "stdout",
     "output_type": "stream",
     "text": [
      "{'patient1': [-2.47, 10.414, -20.147, 71.253, 6.184, 18.686, 14.767, 8.407, 49.355, 17.055], 'patient2': [-11.368, 71.067, -31.519, 0.0, 12.197, -23.183, 28.052, 21.437, 19.261, 67.036], 'patient3': [-44.866, -42.591, 32.409, 62.916, 23.356, 0.0, -52.277, -20.885, 21.307, 10.846], 'patient4': [-50.765, 0.0, -26.627, 0.0, 6.523, 11.412, 0.0, 40.828, -21.127, -11.693], 'patient5': [5.076, 91.697, -47.169, -21.875, -52.227, 20.551, 30.118, -0.114, 25.138, -21.818], 'patient6': [-15.347, -27.504, -33.92, -45.092, -23.837, -15.655, -43.795, 30.521, 68.682, 18.174], 'patient7': [4.825, -22.918, 0.0, 16.429, 0.0, 15.604, -27.403, 0.0, 7.14, 26.587]}\n"
     ]
    }
   ],
   "source": [
    "data_new = {}\n",
    "\n",
    "for patient, pdata in data.items(): # по ключу и значению\n",
    "    pdata_float = []\n",
    "    \n",
    "    for val in pdata:\n",
    "        val_clean = val.lstrip('-').replace('.','') # lstrip - удаляет левый крайний искомый символ в строке\n",
    "        \n",
    "        if not val_clean.isdigit(): # проверка, явялется ли значение числом после очистки - и .\n",
    "            pdata_float.append(0.) # 0. - чтобы получился тип float \n",
    "        else:\n",
    "            pdata_float.append(float(val))\n",
    "    \n",
    "    data_new[patient] = pdata_float        \n",
    "print(data_new)"
   ]
  },
  {
   "cell_type": "code",
   "execution_count": 51,
   "id": "d02b8b7e",
   "metadata": {},
   "outputs": [
    {
     "data": {
      "text/plain": [
       "[-11.368,\n",
       " 71.067,\n",
       " -31.519,\n",
       " 0.0,\n",
       " 12.197,\n",
       " -23.183,\n",
       " 28.052,\n",
       " 21.437,\n",
       " 19.261,\n",
       " 67.036]"
      ]
     },
     "execution_count": 51,
     "metadata": {},
     "output_type": "execute_result"
    }
   ],
   "source": [
    "patient1_float"
   ]
  },
  {
   "cell_type": "code",
   "execution_count": 49,
   "id": "e7558f2e",
   "metadata": {},
   "outputs": [
    {
     "data": {
      "text/plain": [
       "True"
      ]
     },
     "execution_count": 49,
     "metadata": {},
     "output_type": "execute_result"
    }
   ],
   "source": [
    "'7189'.isdigit() # проверяет все ли значения цифры\n"
   ]
  },
  {
   "cell_type": "code",
   "execution_count": 44,
   "id": "b1be44a6",
   "metadata": {},
   "outputs": [
    {
     "data": {
      "text/plain": [
       "'7189'"
      ]
     },
     "execution_count": 44,
     "metadata": {},
     "output_type": "execute_result"
    }
   ],
   "source": [
    "'-71.89'.lstrip('-').replace('.','')"
   ]
  },
  {
   "attachments": {},
   "cell_type": "markdown",
   "id": "87d1e73b",
   "metadata": {},
   "source": [
    "#### Задача 4\n",
    "\n",
    "Программе на вход подается натуральное число n < 10. Затем n раз вводятся через запятую и пробел имена людей. Каждый набор имен представляет однокурсников, которые общаются компанией. Гарантируется, что имена уникальны (т. е. нет двух людей с одинаковым именем). После этого вводится число натуральное число k (k < n), которое будет означать порядковый номер компании (соответствует очереди ввода, начинается с 0). Вам необходимо для данной группы k вывести через запятую и пробел номера всех групп, которые с ней связаны (кроме, понятное дело, самой себя). Связь групп k и i определяется как наличие хотя бы одного человека, который входит и в группу k, и в группу i. Если связей нет, для пользователя должно быть выведено `'Группа автономна'`."
   ]
  },
  {
   "cell_type": "code",
   "execution_count": null,
   "id": "1ee61ba2",
   "metadata": {},
   "outputs": [],
   "source": [
    "# наш код здесь"
   ]
  }
 ],
 "metadata": {
  "kernelspec": {
   "display_name": "Python 3 (ipykernel)",
   "language": "python",
   "name": "python3"
  },
  "language_info": {
   "codemirror_mode": {
    "name": "ipython",
    "version": 3
   },
   "file_extension": ".py",
   "mimetype": "text/x-python",
   "name": "python",
   "nbconvert_exporter": "python",
   "pygments_lexer": "ipython3",
   "version": "3.10.11"
  }
 },
 "nbformat": 4,
 "nbformat_minor": 5
}
